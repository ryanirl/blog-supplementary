{
 "cells": [
  {
   "cell_type": "code",
   "execution_count": 1,
   "id": "5ee0fab2",
   "metadata": {
    "_kg_hide-input": true,
    "_kg_hide-output": true,
    "papermill": {
     "duration": 13.667007,
     "end_time": "2023-04-25T20:30:14.097208",
     "exception": false,
     "start_time": "2023-04-25T20:30:00.430201",
     "status": "completed"
    },
    "tags": []
   },
   "outputs": [
    {
     "name": "stdout",
     "output_type": "stream",
     "text": [
      "\u001b[33mDEPRECATION: Configuring installation scheme with distutils config files is deprecated and will no longer work in the near future. If you are using a Homebrew or Linuxbrew Python, please see discussion at https://github.com/Homebrew/homebrew-core/issues/76621\u001b[0m\u001b[33m\n",
      "\u001b[0mRequirement already satisfied: pysam in /usr/local/lib/python3.9/site-packages (0.18.0)\n",
      "\u001b[33mDEPRECATION: Configuring installation scheme with distutils config files is deprecated and will no longer work in the near future. If you are using a Homebrew or Linuxbrew Python, please see discussion at https://github.com/Homebrew/homebrew-core/issues/76621\u001b[0m\u001b[33m\n",
      "\u001b[0m\u001b[33mWARNING: There was an error checking the latest version of pip.\u001b[0m\u001b[33m\n",
      "\u001b[0m"
     ]
    }
   ],
   "source": [
    "!pip install pysam"
   ]
  },
  {
   "cell_type": "code",
   "execution_count": 2,
   "id": "75bedbbe",
   "metadata": {
    "_cell_guid": "b1076dfc-b9ad-4769-8c92-a6c4dae69d19",
    "_kg_hide-input": true,
    "_uuid": "8f2839f25d086af736a60e9eeb907d3b93b6e0e5",
    "papermill": {
     "duration": 1.232671,
     "end_time": "2023-04-25T20:30:15.338938",
     "exception": false,
     "start_time": "2023-04-25T20:30:14.106267",
     "status": "completed"
    },
    "tags": []
   },
   "outputs": [],
   "source": [
    "import matplotlib.pyplot as plt\n",
    "from tqdm.notebook import tqdm\n",
    "from scipy import stats\n",
    "import seaborn as sns\n",
    "import pandas as pd\n",
    "import numpy as np\n",
    "import math\n",
    "import glob\n",
    "import sys\n",
    "import os\n",
    "\n",
    "import warnings\n",
    "warnings.filterwarnings(\"ignore\")\n",
    "\n",
    "from pysam import VariantFile"
   ]
  },
  {
   "cell_type": "markdown",
   "id": "44a9dc1e",
   "metadata": {
    "papermill": {
     "duration": 0.007807,
     "end_time": "2023-04-25T20:30:15.418629",
     "exception": false,
     "start_time": "2023-04-25T20:30:15.410822",
     "status": "completed"
    },
    "tags": []
   },
   "source": [
    "## PCA on Genotypes\n",
    "\n",
    "For the data, I used a different dataset than the original paper and a\n",
    "different chromosome of the same dataset than Maria Nattestad used in her\n",
    "implementation. If you are following along I also recommend you use a different\n",
    "dataset or the same dataset and a different chromosome than either Maria\n",
    "Nattestad (Chr 22) or I (Chr 21) used. This data is from the 1000 Genomes\n",
    "Project [[2]](#2). If you with to reproduce my results either take a look at my\n",
    "notebooks, or you can utilize my pipline and look at look at `USAGE.md` for\n",
    "instructions.  The data I used can be downloaded via the following commands:\n",
    "\n",
    "```\n",
    "curl -O https://1000genomes.s3.amazonaws.com/release/20110521/ALL.chr21.phase1_release_v3.20101123.snps_indels_svs.genotypes.vcf.gz\n",
    "\n",
    "curl -O https://1000genomes.s3.amazonaws.com/release/20110521/ALL.chr21.phase1_release_v3.20101123.snps_indels_svs.genotypes.vcf.gz.tbi\n",
    "\n",
    "curl -O https://1000genomes.s3.amazonaws.com/release/20110521/phase1_integrated_calls.20101123.ALL.panel\n",
    "```\n",
    "\n",
    "**NOTE**: If you want to use a different chromosome you can simply just change\n",
    "where the first two downloads say chr21 to chrx where x is the number of the\n",
    "chromosome [1, 22]."
   ]
  },
  {
   "cell_type": "code",
   "execution_count": 3,
   "id": "7fde32e3-830d-4f95-b9f0-4382195014c8",
   "metadata": {},
   "outputs": [
    {
     "name": "stdout",
     "output_type": "stream",
     "text": [
      "  % Total    % Received % Xferd  Average Speed   Time    Time     Time  Current\n",
      "                                 Dload  Upload   Total   Spent    Left  Speed\n",
      "100 1914M  100 1914M    0     0  8216k      0  0:03:58  0:03:58 --:--:-- 7144k 0  0:05:00  0:00:08  0:04:52 7984k0  0:03:49  0:00:44  0:03:05 9988k0  8302k      0  0:03:56  0:00:58  0:02:58 7546k  0  0:03:50  0:01:13  0:02:37 8473k 0  0:03:50  0:01:16  0:02:34 7686k  8251k      0  0:03:57  0:01:27  0:02:30 7041k0  0:03:53  0:01:50  0:02:03 7905k   0     0  8453k      0  0:03:51  0:01:56  0:01:55 9869k   0     0  8524k      0  0:03:49  0:02:35  0:01:14 7828k0:47 7564k3:50  0:03:09  0:00:41 7940k 0  8327k      0  0:03:55  0:03:18  0:00:37 4462k 0  8256k      0  0:03:57  0:03:38  0:00:19 10.5M\n",
      "  % Total    % Received % Xferd  Average Speed   Time    Time     Time  Current\n",
      "                                 Dload  Upload   Total   Spent    Left  Speed\n",
      "100 31909  100 31909    0     0  85768      0 --:--:-- --:--:-- --:--:-- 86945\n",
      "  % Total    % Received % Xferd  Average Speed   Time    Time     Time  Current\n",
      "                                 Dload  Upload   Total   Spent    Left  Speed\n",
      "100 29939  100 29939    0     0   100k      0 --:--:-- --:--:-- --:--:--  102k\n"
     ]
    }
   ],
   "source": [
    "# If you would like to download the data using the above commands, you can run this block.\n",
    "\n",
    "!curl -O https://1000genomes.s3.amazonaws.com/release/20110521/ALL.chr21.phase1_release_v3.20101123.snps_indels_svs.genotypes.vcf.gz\n",
    "!curl -O https://1000genomes.s3.amazonaws.com/release/20110521/ALL.chr21.phase1_release_v3.20101123.snps_indels_svs.genotypes.vcf.gz.tbi\n",
    "!curl -O https://1000genomes.s3.amazonaws.com/release/20110521/phase1_integrated_calls.20101123.ALL.panel"
   ]
  },
  {
   "cell_type": "code",
   "execution_count": 3,
   "id": "14696251",
   "metadata": {
    "papermill": {
     "duration": 1.12237,
     "end_time": "2023-04-25T20:30:16.550300",
     "exception": false,
     "start_time": "2023-04-25T20:30:15.427930",
     "status": "completed"
    },
    "tags": []
   },
   "outputs": [
    {
     "name": "stdout",
     "output_type": "stream",
     "text": [
      "\u001b[1;36m./data\u001b[00m\n",
      "├── ALL.chr21.phase1_release_v3.20101123.snps_indels_svs.genotypes.vcf.gz\n",
      "├── ALL.chr21.phase1_release_v3.20101123.snps_indels_svs.genotypes.vcf.gz.tbi\n",
      "└── phase1_integrated_calls.20101123.ALL.panel\n",
      "\n",
      "0 directories, 3 files\n"
     ]
    }
   ],
   "source": [
    "# I moved the above data to a file called \"data/\" in the current directory.\n",
    "!tree ./data"
   ]
  },
  {
   "cell_type": "markdown",
   "id": "eb9f6803",
   "metadata": {
    "papermill": {
     "duration": 0.008993,
     "end_time": "2023-04-25T20:30:16.568927",
     "exception": false,
     "start_time": "2023-04-25T20:30:16.559934",
     "status": "completed"
    },
    "tags": []
   },
   "source": [
    "### Load the VCF Dataset"
   ]
  },
  {
   "cell_type": "code",
   "execution_count": 4,
   "id": "3be49acb",
   "metadata": {
    "papermill": {
     "duration": 0.020558,
     "end_time": "2023-04-25T20:30:16.599205",
     "exception": false,
     "start_time": "2023-04-25T20:30:16.578647",
     "status": "completed"
    },
    "tags": []
   },
   "outputs": [],
   "source": [
    "data_dir = \"./data/\"\n",
    "\n",
    "vcf_dir   = os.path.join(data_dir, \"ALL.chr21.phase1_release_v3.20101123.snps_indels_svs.genotypes.vcf.gz\")\n",
    "panel_dir = os.path.join(data_dir, \"phase1_integrated_calls.20101123.ALL.panel\")\n",
    "\n",
    "# Parameter to save memory. Basically we only collect every n'th allele.\n",
    "skip_every = 25"
   ]
  },
  {
   "cell_type": "code",
   "execution_count": 5,
   "id": "d0983cde",
   "metadata": {
    "papermill": {
     "duration": 331.178429,
     "end_time": "2023-04-25T20:35:47.786646",
     "exception": false,
     "start_time": "2023-04-25T20:30:16.608217",
     "status": "completed"
    },
    "tags": []
   },
   "outputs": [
    {
     "data": {
      "application/vnd.jupyter.widget-view+json": {
       "model_id": "3727770b50054ebda83605ee6a2fd55d",
       "version_major": 2,
       "version_minor": 0
      },
      "text/plain": [
       "0it [00:00, ?it/s]"
      ]
     },
     "metadata": {},
     "output_type": "display_data"
    }
   ],
   "source": [
    "def allele_indices(vcf_dir, skip_every = 5):\n",
    "    \"\"\"\n",
    "    Given a VCF file, this returns each samples genotype \n",
    "    represented as allele indices along with the corresponding\n",
    "    variant IDs and list of samples.\n",
    "\n",
    "    Args:\n",
    "        vcf_dir (string): Location of VCF file.\n",
    "        skip_every (int): Only return every other \"skip_every\"\n",
    "            variant. This may be useful if you are running this\n",
    "            with less than 16GB of RAM.\n",
    "\n",
    "    Returns:\n",
    "        list: List of each sample.\n",
    "        list: Genotypes of shape: (samples, num_variants // skip_every, 2).\n",
    "        list: Variant IDs for each variant.\n",
    "\n",
    "    \"\"\"\n",
    "    vcf_file = VariantFile(vcf_dir)\n",
    "\n",
    "    samples = list(vcf_file.header.samples)\n",
    "\n",
    "    genotypes = []\n",
    "    variant_ids = []\n",
    "    for counter, record in tqdm(enumerate(vcf_file.fetch())):\n",
    "        if counter % skip_every == 0:\n",
    "            alleles = [record.samples[x].allele_indices for x in samples]\n",
    "\n",
    "            genotypes.append(alleles)\n",
    "            variant_ids.append(record.id)\n",
    "\n",
    "    return samples, genotypes, variant_ids\n",
    "\n",
    "def parse_panel(panel_dir):\n",
    "    \"\"\"\n",
    "    Returns python dictionaries that maps each sample\n",
    "    to a population and superpopulation. \n",
    "\n",
    "    Args:\n",
    "        panel_dir (string): Location of the panel file \n",
    "            containing information about each sample.\n",
    "\n",
    "    Returns:\n",
    "        dict: Population map for each sample. For\n",
    "            example, {sample_id, population}.\n",
    "\n",
    "        dict: Superpopulation map for each sample. For\n",
    "            example, {sample_id, superpopulation}.\n",
    "\n",
    "    \"\"\"\n",
    "    population_map = {}  \n",
    "    superpopulation_map = {}  \n",
    "    with open(panel_dir) as panel_file:\n",
    "        for sample in panel_file:\n",
    "            \"\"\"\n",
    "            EX: [\"HG00607\", \"CHS\", \"ASN\", \"ILLUMINA\"]\n",
    "\n",
    "            sample[0] = Sample ID.\n",
    "            sample[1] = Population.\n",
    "            sample[2] = Superpopulation.\n",
    "\n",
    "            \"\"\"\n",
    "            sample = sample.strip().split('\\t')\n",
    "\n",
    "            population_map[sample[0]] = sample[1]\n",
    "            superpopulation_map[sample[0]] = sample[2]\n",
    "    \n",
    "    return population_map, superpopulation_map \n",
    "\n",
    "# This may take ~1.5 minutes to run. \n",
    "samples, genotypes, variant_ids = allele_indices(vcf_dir, skip_every)\n",
    "population_map, superpopulation_map = parse_panel(panel_dir)\n",
    "\n",
    "# Find the superpopulation of each sample.\n",
    "superpopulation = pd.Series(samples).map(superpopulation_map)\n",
    "\n",
    "# Prepare the data for dimensionality reduction.\n",
    "# shape: (samples, variant_count // skip_every, 2)\n",
    "genotypes = np.array(genotypes)\n",
    "genotypes = np.sum(genotypes, axis = 2)"
   ]
  },
  {
   "cell_type": "code",
   "execution_count": 6,
   "id": "61202ef7",
   "metadata": {
    "papermill": {
     "duration": 0.027053,
     "end_time": "2023-04-25T20:35:47.825758",
     "exception": false,
     "start_time": "2023-04-25T20:35:47.798705",
     "status": "completed"
    },
    "tags": []
   },
   "outputs": [],
   "source": [
    "# Due to kaggle notebooks not working well, further reduce the number \n",
    "# of dimensions of the data. In practice you don't have to do this because\n",
    "# libraries will optimize the PCA implementation. Here, we are being very\n",
    "# naive with how we perform PCA via SVD.\n",
    "\n",
    "genotypes_small = genotypes[::10]"
   ]
  },
  {
   "cell_type": "code",
   "execution_count": 7,
   "id": "7e92062a",
   "metadata": {
    "papermill": {
     "duration": 0.022283,
     "end_time": "2023-04-25T20:35:47.860029",
     "exception": false,
     "start_time": "2023-04-25T20:35:47.837746",
     "status": "completed"
    },
    "tags": []
   },
   "outputs": [
    {
     "name": "stdout",
     "output_type": "stream",
     "text": [
      "Shape: (2076, 1092)\n",
      "New Number of Alleles: 2076\n",
      "New Number of Sampled People: 1092\n"
     ]
    }
   ],
   "source": [
    "m, n = genotypes_small.shape\n",
    "\n",
    "print(f\"Shape: ({m}, {n})\")\n",
    "print(f\"New Number of Alleles: {m}\")\n",
    "print(f\"New Number of Sampled People: {n}\")"
   ]
  },
  {
   "cell_type": "markdown",
   "id": "09f1c1c2",
   "metadata": {
    "papermill": {
     "duration": 0.008512,
     "end_time": "2023-04-25T20:35:47.877257",
     "exception": false,
     "start_time": "2023-04-25T20:35:47.868745",
     "status": "completed"
    },
    "tags": []
   },
   "source": [
    "### Compute the Covariance Matrix"
   ]
  },
  {
   "cell_type": "code",
   "execution_count": 8,
   "id": "754338e2",
   "metadata": {
    "papermill": {
     "duration": 0.240593,
     "end_time": "2023-04-25T20:35:48.127674",
     "exception": false,
     "start_time": "2023-04-25T20:35:47.887081",
     "status": "completed"
    },
    "tags": []
   },
   "outputs": [],
   "source": [
    "# First mean normalize your data. That is,\n",
    "# we substract the mean (dimension wise)\n",
    "# which will center our data around the\n",
    "# origin.\n",
    "\n",
    "# Calculate the mean.\n",
    "mean = np.mean(genotypes_small, axis = 1, keepdims = True)\n",
    "\n",
    "# Subtract the mean.\n",
    "genotypes_normalized = genotypes_small - mean\n",
    "\n",
    "# Compute the covariance matrix of our data.\n",
    "covariance = genotypes_normalized.dot(genotypes_normalized.T) / (n - 1)"
   ]
  },
  {
   "cell_type": "markdown",
   "id": "9361dd97",
   "metadata": {
    "papermill": {
     "duration": 0.044162,
     "end_time": "2023-04-25T20:35:48.200997",
     "exception": false,
     "start_time": "2023-04-25T20:35:48.156835",
     "status": "completed"
    },
    "tags": []
   },
   "source": [
    "### Dimensionality Reduction with PCA"
   ]
  },
  {
   "cell_type": "code",
   "execution_count": 9,
   "id": "abacdf48",
   "metadata": {
    "papermill": {
     "duration": 1.754779,
     "end_time": "2023-04-25T20:35:49.969299",
     "exception": false,
     "start_time": "2023-04-25T20:35:48.214520",
     "status": "completed"
    },
    "tags": []
   },
   "outputs": [
    {
     "name": "stdout",
     "output_type": "stream",
     "text": [
      "(2076,)\n",
      "(2076, 2076)\n"
     ]
    }
   ],
   "source": [
    "eig_values, eig_vectors = np.linalg.eigh(covariance)\n",
    "\n",
    "# They are in ascending order, we want the opposite.\n",
    "eig_values = eig_values[::-1]\n",
    "eig_vectors = eig_vectors[:, ::-1]\n",
    "\n",
    "print(eig_values.shape)\n",
    "print(eig_vectors.shape)"
   ]
  },
  {
   "cell_type": "code",
   "execution_count": 10,
   "id": "26c42d14",
   "metadata": {
    "papermill": {
     "duration": 0.024016,
     "end_time": "2023-04-25T20:35:50.014917",
     "exception": false,
     "start_time": "2023-04-25T20:35:49.990901",
     "status": "completed"
    },
    "tags": []
   },
   "outputs": [
    {
     "data": {
      "text/plain": [
       "array([0.0831045 , 0.13070515, 0.14289654, 0.15236331, 0.16062823,\n",
       "       0.16877235, 0.17622259, 0.18349874, 0.19060836, 0.19756033])"
      ]
     },
     "execution_count": 10,
     "metadata": {},
     "output_type": "execute_result"
    }
   ],
   "source": [
    "# Testing how much variance is captured by in the dimensionality reduction.\n",
    "\n",
    "np.cumsum(eig_values / np.sum(eig_values))[0 : 10]"
   ]
  },
  {
   "cell_type": "code",
   "execution_count": 11,
   "id": "11d8fcb8",
   "metadata": {
    "papermill": {
     "duration": 0.019132,
     "end_time": "2023-04-25T20:35:50.042944",
     "exception": false,
     "start_time": "2023-04-25T20:35:50.023812",
     "status": "completed"
    },
    "tags": []
   },
   "outputs": [],
   "source": [
    "# The eigenvalues are already sorted in descending\n",
    "# order. Because the covariance matrix is positive\n",
    "# semi-definite, s = d.T, and we can just take the\n",
    "# leading two principle components straight from s. \n",
    "\n",
    "pc1 = eig_vectors[:, 0]\n",
    "pc2 = eig_vectors[:, 1]"
   ]
  },
  {
   "cell_type": "code",
   "execution_count": 12,
   "id": "492b922d",
   "metadata": {
    "papermill": {
     "duration": 0.024505,
     "end_time": "2023-04-25T20:35:50.076215",
     "exception": false,
     "start_time": "2023-04-25T20:35:50.051710",
     "status": "completed"
    },
    "tags": []
   },
   "outputs": [],
   "source": [
    "# Now we do a change of basis of our original data\n",
    "# with our PC1 and PC2 forming the new space. This\n",
    "# is the \"dimensionality reduction\" step. Because \n",
    "# the eigenvectors are of normal length, projecting\n",
    "# out data onto this space is just a simple dot \n",
    "# product.\n",
    "\n",
    "pc1_plot = genotypes_normalized.T.dot(pc1)\n",
    "pc2_plot = genotypes_normalized.T.dot(pc2)"
   ]
  },
  {
   "cell_type": "code",
   "execution_count": 13,
   "id": "dcbdb56b-c573-484b-89a3-b4c14f214af6",
   "metadata": {},
   "outputs": [],
   "source": [
    "# Used to make the cover of the post, see `figures.ipynb`.\n",
    "#np.save(\"pc1.npy\", pc1_plot)\n",
    "#np.save(\"pc2.npy\", pc2_plot)\n",
    "#superpopulation.to_csv(\"superpop.csv\", index = False)"
   ]
  },
  {
   "cell_type": "code",
   "execution_count": 14,
   "id": "25982e4c",
   "metadata": {
    "papermill": {
     "duration": 0.485619,
     "end_time": "2023-04-25T20:35:50.584616",
     "exception": false,
     "start_time": "2023-04-25T20:35:50.098997",
     "status": "completed"
    },
    "tags": []
   },
   "outputs": [
    {
     "data": {
      "image/png": "[encoded data removed]",
      "text/plain": [
       "<Figure size 360x288 with 1 Axes>"
      ]
     },
     "metadata": {
      "needs_background": "light"
     },
     "output_type": "display_data"
    }
   ],
   "source": [
    "# Now lets visualize our dimensionality reduced data.\n",
    "\n",
    "def plot(pc1, pc2):\n",
    "    cmap = plt.get_cmap(\"viridis\")\n",
    "    plt.style.use(\"default\")\n",
    "    fig, ax = plt.subplots(1, 1, figsize = (5, 4))\n",
    "\n",
    "    markers = [\"o\", \"D\", \"s\", \"^\"]\n",
    "    sizes = np.array([10, 10, 10, 15]) * 2\n",
    "    edges = np.array([0.1, 0.1, 0.1, 0.1]) * 5\n",
    "    colors = [0.75, 0.5, 0.2, 1.0]\n",
    "\n",
    "    i = 0\n",
    "    for pop in superpopulation.unique():\n",
    "        inds = superpopulation == pop\n",
    "        ax.scatter(\n",
    "            x = pc1[inds], \n",
    "            y = pc2[inds], \n",
    "            c = cmap(colors[i]),\n",
    "            s = sizes[i],\n",
    "            marker = markers[i],\n",
    "            alpha = 0.9, \n",
    "            linewidth = edges[i],\n",
    "            edgecolor = \"black\"\n",
    "        )\n",
    "\n",
    "        i += 1\n",
    "\n",
    "    ax.set_xlabel(\"PCA 1\")\n",
    "    ax.set_ylabel(\"PCA 2\")\n",
    "    ax.set_facecolor('white')\n",
    "    ax.grid(True, alpha = 0.3, color = \"black\", linestyle = \"dotted\", zorder = 1)\n",
    "\n",
    "    plt.show()\n",
    "    \n",
    "plot(pc1_plot, pc2_plot)"
   ]
  },
  {
   "cell_type": "markdown",
   "id": "505e7a91",
   "metadata": {
    "papermill": {
     "duration": 0.011651,
     "end_time": "2023-04-25T20:35:50.608956",
     "exception": false,
     "start_time": "2023-04-25T20:35:50.597305",
     "status": "completed"
    },
    "tags": []
   },
   "source": [
    "### Comparison with SKLearn"
   ]
  },
  {
   "cell_type": "code",
   "execution_count": 15,
   "id": "d73765b4",
   "metadata": {
    "papermill": {
     "duration": 0.732086,
     "end_time": "2023-04-25T20:35:51.352870",
     "exception": false,
     "start_time": "2023-04-25T20:35:50.620784",
     "status": "completed"
    },
    "tags": []
   },
   "outputs": [
    {
     "data": {
      "text/plain": [
       "(1092, 2)"
      ]
     },
     "execution_count": 15,
     "metadata": {},
     "output_type": "execute_result"
    }
   ],
   "source": [
    "from sklearn.decomposition import PCA\n",
    "\n",
    "pca_model = PCA(n_components = 2)\n",
    "pca_model.fit(genotypes_small.T)\n",
    "\n",
    "pca_out = pca_model.transform(genotypes_small.T)\n",
    "pca_out.shape"
   ]
  },
  {
   "cell_type": "code",
   "execution_count": 16,
   "id": "5e9a5435",
   "metadata": {
    "papermill": {
     "duration": 0.076175,
     "end_time": "2023-04-25T20:35:51.459446",
     "exception": false,
     "start_time": "2023-04-25T20:35:51.383271",
     "status": "completed"
    },
    "tags": []
   },
   "outputs": [
    {
     "data": {
      "text/plain": [
       "array([0.0831045 , 0.13070515])"
      ]
     },
     "execution_count": 16,
     "metadata": {},
     "output_type": "execute_result"
    }
   ],
   "source": [
    "np.cumsum(pca_model.explained_variance_ratio_)"
   ]
  },
  {
   "cell_type": "code",
   "execution_count": 17,
   "id": "718e3ae0",
   "metadata": {
    "papermill": {
     "duration": 0.401953,
     "end_time": "2023-04-25T20:35:51.877417",
     "exception": false,
     "start_time": "2023-04-25T20:35:51.475464",
     "status": "completed"
    },
    "tags": []
   },
   "outputs": [
    {
     "data": {
      "image/png": "[encoded data removed]",
      "text/plain": [
       "<Figure size 500x400 with 1 Axes>"
      ]
     },
     "metadata": {},
     "output_type": "display_data"
    }
   ],
   "source": [
    "# Now lets visualize our dimensionality reduced data.\n",
    "\n",
    "plot(pca_out[:, 0], pca_out[:, 1])"
   ]
  },
  {
   "cell_type": "markdown",
   "id": "b8058ffa",
   "metadata": {
    "papermill": {
     "duration": 0.014278,
     "end_time": "2023-04-25T20:35:51.906512",
     "exception": false,
     "start_time": "2023-04-25T20:35:51.892234",
     "status": "completed"
    },
    "tags": []
   },
   "source": [
    "## Clustering on Reduced Data"
   ]
  },
  {
   "cell_type": "code",
   "execution_count": 18,
   "id": "1b77ea75",
   "metadata": {
    "papermill": {
     "duration": 6.281778,
     "end_time": "2023-04-25T20:35:58.202625",
     "exception": false,
     "start_time": "2023-04-25T20:35:51.920847",
     "status": "completed"
    },
    "tags": []
   },
   "outputs": [
    {
     "data": {
      "image/png": "[encoded data removed]",
      "text/plain": [
       "<Figure size 500x400 with 1 Axes>"
      ]
     },
     "metadata": {},
     "output_type": "display_data"
    }
   ],
   "source": [
    "from sklearn.cluster import KMeans\n",
    "\n",
    "pca_model = PCA(n_components = 128)\n",
    "\n",
    "cluster_model = KMeans(n_clusters = 4, max_iter = 1000, n_init = 25)\n",
    "cluster_model.fit(\n",
    "    pca_model.fit_transform(genotypes.T)\n",
    ")\n",
    "\n",
    "cmap = plt.get_cmap(\"viridis\")\n",
    "plt.style.use(\"default\")\n",
    "fig, ax = plt.subplots(1, 1, figsize = (5, 4))\n",
    "\n",
    "markers = [\"o\", \"D\", \"s\", \"^\"]\n",
    "sizes = np.array([10, 10, 10, 15]) * 2\n",
    "edges = np.array([0.1, 0.1, 0.1, 0.1]) * 5\n",
    "colors = [0.75, 0.5, 0.2, 1.0]\n",
    "\n",
    "i = 0\n",
    "for cluster in np.unique(cluster_model.labels_):\n",
    "    inds = cluster_model.labels_ == cluster\n",
    "    ax.scatter(\n",
    "        x = pca_out[inds, 0], \n",
    "        y = pca_out[inds, 1], \n",
    "        c = cmap(colors[i]),\n",
    "        s = sizes[i],\n",
    "        marker = markers[i],\n",
    "        alpha = 0.9, \n",
    "        linewidth = edges[i],\n",
    "        edgecolor = \"black\"\n",
    "    )\n",
    "\n",
    "    i += 1\n",
    "\n",
    "ax.set_xlabel(\"PCA 1\")\n",
    "ax.set_ylabel(\"PCA 2\")\n",
    "ax.set_facecolor('white')\n",
    "ax.grid(True, alpha = 0.3, color = \"black\", linestyle = \"dotted\", zorder = 1)\n",
    "\n",
    "plt.show()"
   ]
  },
  {
   "cell_type": "code",
   "execution_count": 19,
   "id": "913930e7",
   "metadata": {
    "papermill": {
     "duration": 0.028323,
     "end_time": "2023-04-25T20:35:58.249957",
     "exception": false,
     "start_time": "2023-04-25T20:35:58.221634",
     "status": "completed"
    },
    "tags": []
   },
   "outputs": [
    {
     "name": "stdout",
     "output_type": "stream",
     "text": [
      "Percentage of variance captured with 128 components: 0.4522\n"
     ]
    }
   ],
   "source": [
    "variance_captured = np.cumsum(pca_model.explained_variance_ratio_)[-1]\n",
    "\n",
    "print(f\"Percentage of variance captured with {pca_model.n_components} components: {variance_captured:0.4f}\")"
   ]
  },
  {
   "cell_type": "code",
   "execution_count": 20,
   "id": "155b8000",
   "metadata": {
    "_kg_hide-input": true,
    "papermill": {
     "duration": 0.028927,
     "end_time": "2023-04-25T20:35:58.296202",
     "exception": false,
     "start_time": "2023-04-25T20:35:58.267275",
     "status": "completed"
    },
    "tags": []
   },
   "outputs": [],
   "source": [
    "from sklearn.metrics import confusion_matrix\n",
    "from scipy.optimize import linear_sum_assignment\n",
    "\n",
    "def _make_cost_m(cm):\n",
    "    return -cm + np.max(cm)\n",
    "\n",
    "def cluster_accuracy(y_pred, y_true):\n",
    "    \"\"\"\n",
    "    Gets the best permutation accuracy score for \n",
    "    y_pred and y_true.\n",
    "    \n",
    "    \"\"\"\n",
    "    cm = confusion_matrix(y_pred, y_true)\n",
    "    \n",
    "    indexes = linear_sum_assignment(_make_cost_m(cm))\n",
    "    \n",
    "    total = 0\n",
    "    for row, column in zip(*indexes):\n",
    "        value = cm[row][column]\n",
    "        total += value\n",
    "\n",
    "    return (total * 1.0 / np.sum(cm))"
   ]
  },
  {
   "cell_type": "code",
   "execution_count": 21,
   "id": "4a50a453",
   "metadata": {
    "papermill": {
     "duration": 0.03227,
     "end_time": "2023-04-25T20:35:58.346073",
     "exception": false,
     "start_time": "2023-04-25T20:35:58.313803",
     "status": "completed"
    },
    "tags": []
   },
   "outputs": [
    {
     "data": {
      "text/plain": [
       "0.9212454212454212"
      ]
     },
     "execution_count": 21,
     "metadata": {},
     "output_type": "execute_result"
    }
   ],
   "source": [
    "true_values = superpopulation.map({\n",
    "    \"EUR\": 0,\n",
    "    \"ASN\": 1,\n",
    "    \"AMR\": 2,\n",
    "    \"AFR\": 3\n",
    "}).values\n",
    "\n",
    "cluster_accuracy(cluster_model.labels_, true_values)"
   ]
  },
  {
   "cell_type": "code",
   "execution_count": null,
   "id": "dde56ed7-2163-436d-946f-e682f0e8f7b4",
   "metadata": {},
   "outputs": [],
   "source": []
  }
 ],
 "metadata": {
  "kernelspec": {
   "display_name": "Python 3",
   "language": "python",
   "name": "python3"
  },
  "language_info": {
   "codemirror_mode": {
    "name": "ipython",
    "version": 3
   },
   "file_extension": ".py",
   "mimetype": "text/x-python",
   "name": "python",
   "nbconvert_exporter": "python",
   "pygments_lexer": "ipython3",
   "version": "3.9.13"
  },
  "papermill": {
   "default_parameters": {},
   "duration": 369.586909,
   "end_time": "2023-04-25T20:35:59.323272",
   "environment_variables": {},
   "exception": null,
   "input_path": "__notebook__.ipynb",
   "output_path": "__notebook__.ipynb",
   "parameters": {},
   "start_time": "2023-04-25T20:29:49.736363",
   "version": "2.4.0"
  },
  "widgets": {
   "application/vnd.jupyter.widget-state+json": {
    "state": {
     "0345a110e50e4fff8cffbe1170ca4de9": {
      "model_module": "@jupyter-widgets/controls",
      "model_module_version": "1.5.0",
      "model_name": "HTMLModel",
      "state": {
       "_dom_classes": [],
       "_model_module": "@jupyter-widgets/controls",
       "_model_module_version": "1.5.0",
       "_model_name": "HTMLModel",
       "_view_count": null,
       "_view_module": "@jupyter-widgets/controls",
       "_view_module_version": "1.5.0",
       "_view_name": "HTMLView",
       "description": "",
       "description_tooltip": null,
       "layout": "IPY_MODEL_7c68aeb1a60a459eb63c1f2b492ee3c0",
       "placeholder": "​",
       "style": "IPY_MODEL_83baa0ae8f954b0f9899b718404ccd78",
       "value": ""
      }
     },
     "17d4feee7d3141849541fbebcbdb3cc5": {
      "model_module": "@jupyter-widgets/controls",
      "model_module_version": "1.5.0",
      "model_name": "FloatProgressModel",
      "state": {
       "_dom_classes": [],
       "_model_module": "@jupyter-widgets/controls",
       "_model_module_version": "1.5.0",
       "_model_name": "FloatProgressModel",
       "_view_count": null,
       "_view_module": "@jupyter-widgets/controls",
       "_view_module_version": "1.5.0",
       "_view_name": "ProgressView",
       "bar_style": "success",
       "description": "",
       "description_tooltip": null,
       "layout": "IPY_MODEL_4a6c5469efe640878e39a9faf76b047f",
       "max": 1,
       "min": 0,
       "orientation": "horizontal",
       "style": "IPY_MODEL_be8eec7a58a741a2a0912c4a961615bb",
       "value": 1
      }
     },
     "2447f03a4f6e47d3ac68e8635bc77d91": {
      "model_module": "@jupyter-widgets/base",
      "model_module_version": "1.2.0",
      "model_name": "LayoutModel",
      "state": {
       "_model_module": "@jupyter-widgets/base",
       "_model_module_version": "1.2.0",
       "_model_name": "LayoutModel",
       "_view_count": null,
       "_view_module": "@jupyter-widgets/base",
       "_view_module_version": "1.2.0",
       "_view_name": "LayoutView",
       "align_content": null,
       "align_items": null,
       "align_self": null,
       "border": null,
       "bottom": null,
       "display": null,
       "flex": null,
       "flex_flow": null,
       "grid_area": null,
       "grid_auto_columns": null,
       "grid_auto_flow": null,
       "grid_auto_rows": null,
       "grid_column": null,
       "grid_gap": null,
       "grid_row": null,
       "grid_template_areas": null,
       "grid_template_columns": null,
       "grid_template_rows": null,
       "height": null,
       "justify_content": null,
       "justify_items": null,
       "left": null,
       "margin": null,
       "max_height": null,
       "max_width": null,
       "min_height": null,
       "min_width": null,
       "object_fit": null,
       "object_position": null,
       "order": null,
       "overflow": null,
       "overflow_x": null,
       "overflow_y": null,
       "padding": null,
       "right": null,
       "top": null,
       "visibility": null,
       "width": null
      }
     },
     "340e92eaf43348ffbf81255b8ada18b7": {
      "model_module": "@jupyter-widgets/controls",
      "model_module_version": "1.5.0",
      "model_name": "HBoxModel",
      "state": {
       "_dom_classes": [],
       "_model_module": "@jupyter-widgets/controls",
       "_model_module_version": "1.5.0",
       "_model_name": "HBoxModel",
       "_view_count": null,
       "_view_module": "@jupyter-widgets/controls",
       "_view_module_version": "1.5.0",
       "_view_name": "HBoxView",
       "box_style": "",
       "children": [
        "IPY_MODEL_0345a110e50e4fff8cffbe1170ca4de9",
        "IPY_MODEL_17d4feee7d3141849541fbebcbdb3cc5",
        "IPY_MODEL_7cad27ea2e0f4f4c8ef5fbdbebda17f3"
       ],
       "layout": "IPY_MODEL_2447f03a4f6e47d3ac68e8635bc77d91"
      }
     },
     "431ff1143c6349df9352f9702ea41e81": {
      "model_module": "@jupyter-widgets/controls",
      "model_module_version": "1.5.0",
      "model_name": "DescriptionStyleModel",
      "state": {
       "_model_module": "@jupyter-widgets/controls",
       "_model_module_version": "1.5.0",
       "_model_name": "DescriptionStyleModel",
       "_view_count": null,
       "_view_module": "@jupyter-widgets/base",
       "_view_module_version": "1.2.0",
       "_view_name": "StyleView",
       "description_width": ""
      }
     },
     "4a6c5469efe640878e39a9faf76b047f": {
      "model_module": "@jupyter-widgets/base",
      "model_module_version": "1.2.0",
      "model_name": "LayoutModel",
      "state": {
       "_model_module": "@jupyter-widgets/base",
       "_model_module_version": "1.2.0",
       "_model_name": "LayoutModel",
       "_view_count": null,
       "_view_module": "@jupyter-widgets/base",
       "_view_module_version": "1.2.0",
       "_view_name": "LayoutView",
       "align_content": null,
       "align_items": null,
       "align_self": null,
       "border": null,
       "bottom": null,
       "display": null,
       "flex": null,
       "flex_flow": null,
       "grid_area": null,
       "grid_auto_columns": null,
       "grid_auto_flow": null,
       "grid_auto_rows": null,
       "grid_column": null,
       "grid_gap": null,
       "grid_row": null,
       "grid_template_areas": null,
       "grid_template_columns": null,
       "grid_template_rows": null,
       "height": null,
       "justify_content": null,
       "justify_items": null,
       "left": null,
       "margin": null,
       "max_height": null,
       "max_width": null,
       "min_height": null,
       "min_width": null,
       "object_fit": null,
       "object_position": null,
       "order": null,
       "overflow": null,
       "overflow_x": null,
       "overflow_y": null,
       "padding": null,
       "right": null,
       "top": null,
       "visibility": null,
       "width": "20px"
      }
     },
     "7c68aeb1a60a459eb63c1f2b492ee3c0": {
      "model_module": "@jupyter-widgets/base",
      "model_module_version": "1.2.0",
      "model_name": "LayoutModel",
      "state": {
       "_model_module": "@jupyter-widgets/base",
       "_model_module_version": "1.2.0",
       "_model_name": "LayoutModel",
       "_view_count": null,
       "_view_module": "@jupyter-widgets/base",
       "_view_module_version": "1.2.0",
       "_view_name": "LayoutView",
       "align_content": null,
       "align_items": null,
       "align_self": null,
       "border": null,
       "bottom": null,
       "display": null,
       "flex": null,
       "flex_flow": null,
       "grid_area": null,
       "grid_auto_columns": null,
       "grid_auto_flow": null,
       "grid_auto_rows": null,
       "grid_column": null,
       "grid_gap": null,
       "grid_row": null,
       "grid_template_areas": null,
       "grid_template_columns": null,
       "grid_template_rows": null,
       "height": null,
       "justify_content": null,
       "justify_items": null,
       "left": null,
       "margin": null,
       "max_height": null,
       "max_width": null,
       "min_height": null,
       "min_width": null,
       "object_fit": null,
       "object_position": null,
       "order": null,
       "overflow": null,
       "overflow_x": null,
       "overflow_y": null,
       "padding": null,
       "right": null,
       "top": null,
       "visibility": null,
       "width": null
      }
     },
     "7cad27ea2e0f4f4c8ef5fbdbebda17f3": {
      "model_module": "@jupyter-widgets/controls",
      "model_module_version": "1.5.0",
      "model_name": "HTMLModel",
      "state": {
       "_dom_classes": [],
       "_model_module": "@jupyter-widgets/controls",
       "_model_module_version": "1.5.0",
       "_model_name": "HTMLModel",
       "_view_count": null,
       "_view_module": "@jupyter-widgets/controls",
       "_view_module_version": "1.5.0",
       "_view_name": "HTMLView",
       "description": "",
       "description_tooltip": null,
       "layout": "IPY_MODEL_ecd744a418444278953583ec91efc133",
       "placeholder": "​",
       "style": "IPY_MODEL_431ff1143c6349df9352f9702ea41e81",
       "value": " 518965/? [05:16&lt;00:00, 1753.65it/s]"
      }
     },
     "83baa0ae8f954b0f9899b718404ccd78": {
      "model_module": "@jupyter-widgets/controls",
      "model_module_version": "1.5.0",
      "model_name": "DescriptionStyleModel",
      "state": {
       "_model_module": "@jupyter-widgets/controls",
       "_model_module_version": "1.5.0",
       "_model_name": "DescriptionStyleModel",
       "_view_count": null,
       "_view_module": "@jupyter-widgets/base",
       "_view_module_version": "1.2.0",
       "_view_name": "StyleView",
       "description_width": ""
      }
     },
     "be8eec7a58a741a2a0912c4a961615bb": {
      "model_module": "@jupyter-widgets/controls",
      "model_module_version": "1.5.0",
      "model_name": "ProgressStyleModel",
      "state": {
       "_model_module": "@jupyter-widgets/controls",
       "_model_module_version": "1.5.0",
       "_model_name": "ProgressStyleModel",
       "_view_count": null,
       "_view_module": "@jupyter-widgets/base",
       "_view_module_version": "1.2.0",
       "_view_name": "StyleView",
       "bar_color": null,
       "description_width": ""
      }
     },
     "ecd744a418444278953583ec91efc133": {
      "model_module": "@jupyter-widgets/base",
      "model_module_version": "1.2.0",
      "model_name": "LayoutModel",
      "state": {
       "_model_module": "@jupyter-widgets/base",
       "_model_module_version": "1.2.0",
       "_model_name": "LayoutModel",
       "_view_count": null,
       "_view_module": "@jupyter-widgets/base",
       "_view_module_version": "1.2.0",
       "_view_name": "LayoutView",
       "align_content": null,
       "align_items": null,
       "align_self": null,
       "border": null,
       "bottom": null,
       "display": null,
       "flex": null,
       "flex_flow": null,
       "grid_area": null,
       "grid_auto_columns": null,
       "grid_auto_flow": null,
       "grid_auto_rows": null,
       "grid_column": null,
       "grid_gap": null,
       "grid_row": null,
       "grid_template_areas": null,
       "grid_template_columns": null,
       "grid_template_rows": null,
       "height": null,
       "justify_content": null,
       "justify_items": null,
       "left": null,
       "margin": null,
       "max_height": null,
       "max_width": null,
       "min_height": null,
       "min_width": null,
       "object_fit": null,
       "object_position": null,
       "order": null,
       "overflow": null,
       "overflow_x": null,
       "overflow_y": null,
       "padding": null,
       "right": null,
       "top": null,
       "visibility": null,
       "width": null
      }
     }
    },
    "version_major": 2,
    "version_minor": 0
   }
  }
 },
 "nbformat": 4,
 "nbformat_minor": 5
}
