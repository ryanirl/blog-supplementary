{
 "cells": [
  {
   "cell_type": "code",
   "execution_count": 1,
   "id": "rural-dakota",
   "metadata": {},
   "outputs": [],
   "source": [
    "import matplotlib.pyplot as plt\n",
    "import numpy as np\n",
    "import cvxopt\n",
    "\n",
    "from mlxtend.plotting import plot_decision_regions\n",
    "from sklearn.datasets import make_circles\n",
    "from sklearn.svm import SVC"
   ]
  },
  {
   "cell_type": "code",
   "execution_count": 2,
   "id": "positive-clinton",
   "metadata": {},
   "outputs": [],
   "source": [
    "# Create a toy dataset. This examples was taken from this blog post:\n",
    "# - https://towardsdatascience.com/how-to-learn-non-linear-separable-dataset-with-support-vector-machines-a7da21c6d987\n",
    "\n",
    "np.random.seed(0)\n",
    "\n",
    "X = np.random.randn(200, 2)\n",
    "y = np.logical_xor(X[:, 0] > 0, X[:, 1] > 0)\n",
    "y = np.where(y, 1, -1)\n",
    "\n",
    "# y's are [0, 1] but we need [-1, 1]\n",
    "y[y == 0] = -1\n",
    "\n",
    "# CVXOPT casts our type int 32 y variable to a float 64 which\n",
    "# makes in uncompatible for plotting through the MLxtend library\n",
    "y_int_32 = y\n",
    "\n",
    "# Fix shape, and convert to float32.\n",
    "y = y.reshape(-1, 1).astype(np.float32)"
   ]
  },
  {
   "cell_type": "code",
   "execution_count": 3,
   "id": "altered-river",
   "metadata": {},
   "outputs": [],
   "source": [
    "def gaussian(x1, x2, sigma = 0.1, axis = 0):\n",
    "    return np.exp(-(np.linalg.norm(x1 - x2, axis=axis) ** 2) / (2.0 * (sigma ** 2.0)))"
   ]
  },
  {
   "cell_type": "code",
   "execution_count": 4,
   "id": "figured-battle",
   "metadata": {},
   "outputs": [],
   "source": [
    "# Much of the design is based off of Aladdin Persson's implimentation, his \n",
    "# video on SVM with CVXOPT was instrumental in my understanding of the CVXOPT \n",
    "# library, so huge shoutout to him. The link to his video is:\n",
    "# - https://www.youtube.com/watch?v=gBTtR0bs-1k&list=PLhhyoLH6IjfxpLWyOgBt1sBzIapdRKZmj&index=7\n",
    "#\n",
    "# Any code I knowingly hard copied from him will be initialed \"AP\"\n",
    "#\n",
    "\n",
    "class SVM:\n",
    "    def __init__(self, kernel = gaussian, sigma = 0.6, C = 1): \n",
    "        self.kernal = kernel\n",
    "        self.sigma = sigma\n",
    "        self.C = C\n",
    "\n",
    "    def fit(self, x, y):\n",
    "        m, n = x.shape\n",
    "        \n",
    "        # Requires this shape and data type.\n",
    "        y = y.copy().reshape(-1, 1).astype(np.float64)\n",
    "\n",
    "        self.X = x\n",
    "        self.y = y\n",
    "        \n",
    "        # Kernel K<X, X>\n",
    "        self.gram_matrix = np.zeros((m, m))\n",
    "        for i in range(m):\n",
    "            for j in range(m):\n",
    "                self.gram_matrix[i][j] = gaussian(X[i], X[j], self.sigma, axis = 0) \n",
    "\n",
    "        # The following article was a big help in understanding the conversion from dual form\n",
    "        # to CVXOPT required form and implimenting CVXOPT:\n",
    "        # https://xavierbourretsicotte.github.io/SVM_implementation.html\n",
    "        \n",
    "        P = cvxopt.matrix(np.outer(y, y) * self.gram_matrix)\n",
    "        q = cvxopt.matrix(-np.ones((m, 1)))\n",
    "        G = cvxopt.matrix(np.vstack((-np.identity(m), np.identity(m))))\n",
    "        h = cvxopt.matrix(np.vstack((np.zeros((m, 1)), np.ones((m, 1)) * self.C)))\n",
    "        A = cvxopt.matrix(y, (1, m), \"d\")\n",
    "        b = cvxopt.matrix(np.array([0]), (1, 1), \"d\")\n",
    "\n",
    "        optimal = cvxopt.solvers.qp(P, q, G, h, A, b)\n",
    "        cvxopt.solvers.options[\"show_progress\"] = True\n",
    "\n",
    "        self.alphas = np.array(optimal[\"x\"])\n",
    "      \n",
    "    def predict(self, X):\n",
    "        prediction = np.zeros(len(X))\n",
    "\n",
    "        S = ((self.alphas > 1e-4)).flatten()\n",
    "\n",
    "        self.bias = np.mean(self.y[S] - self.alphas[S] * self.y[S] * self.gram_matrix[S, S][:, np.newaxis]) # AP\n",
    "\n",
    "        # Kernel <X_i, self.X>\n",
    "        for i in range(len(X)):\n",
    "            prediction[i] = np.sum(self.alphas[S] * self.y[S] * gaussian(X[i], self.X[S], self.sigma, axis = 1)[:, np.newaxis]) # AP\n",
    "            \n",
    "        return np.sign(prediction + self.bias) # AP\n"
   ]
  },
  {
   "cell_type": "code",
   "execution_count": 6,
   "id": "de972b0e-f141-4ac7-9f68-a295fe639537",
   "metadata": {},
   "outputs": [
    {
     "name": "stdout",
     "output_type": "stream",
     "text": [
      "     pcost       dcost       gap    pres   dres\n",
      " 0: -4.2942e+01 -3.4327e+02  1e+03  2e+00  8e-16\n",
      " 1: -3.0263e+01 -1.8500e+02  2e+02  3e-02  9e-16\n",
      " 2: -3.9805e+01 -6.6433e+01  3e+01  5e-03  7e-16\n",
      " 3: -4.5939e+01 -5.4105e+01  8e+00  1e-03  7e-16\n",
      " 4: -4.8241e+01 -5.0366e+01  2e+00  2e-04  8e-16\n",
      " 5: -4.8953e+01 -4.9284e+01  3e-01  2e-05  9e-16\n",
      " 6: -4.9081e+01 -4.9103e+01  2e-02  3e-07  9e-16\n",
      " 7: -4.9090e+01 -4.9091e+01  6e-04  6e-09  8e-16\n",
      " 8: -4.9091e+01 -4.9091e+01  2e-05  9e-11  1e-15\n",
      "Optimal solution found.\n"
     ]
    },
    {
     "data": {
      "image/png": "[encoded data removed]",
      "text/plain": [
       "<Figure size 300x240 with 1 Axes>"
      ]
     },
     "metadata": {},
     "output_type": "display_data"
    }
   ],
   "source": [
    "# My implementation\n",
    "model = SVM()\n",
    "model.fit(X, y)\n",
    "\n",
    "plt.style.use(\"default\")\n",
    "fig, ax = plt.subplots(figsize = (3, 2.4))\n",
    "\n",
    "plot_decision_regions(X, y_int_32, clf = model, legend = 0, ax = ax)\n",
    "\n",
    "ax.set_xlim([-3.35, 3.35])\n",
    "ax.set_ylim([-2.85, 2.85])\n",
    "ax.set_xticks([])\n",
    "ax.set_yticks([])\n",
    "ax.axis(\"off\")\n",
    "plt.subplots_adjust(top = 1, bottom = 0, right = 0.9, left = 0)\n",
    "\n",
    "plt.savefig(\n",
    "    \"./svm.png\", \n",
    "    transparent = False, \n",
    "    bbox_inches = \"tight\", \n",
    "    pad_inches = 0,\n",
    "    dpi = 300\n",
    ")\n",
    "\n",
    "plt.show()"
   ]
  },
  {
   "cell_type": "code",
   "execution_count": null,
   "id": "collected-channel",
   "metadata": {},
   "outputs": [],
   "source": []
  }
 ],
 "metadata": {
  "kernelspec": {
   "display_name": "Python 3",
   "language": "python",
   "name": "python3"
  },
  "language_info": {
   "codemirror_mode": {
    "name": "ipython",
    "version": 3
   },
   "file_extension": ".py",
   "mimetype": "text/x-python",
   "name": "python",
   "nbconvert_exporter": "python",
   "pygments_lexer": "ipython3",
   "version": "3.9.13"
  }
 },
 "nbformat": 4,
 "nbformat_minor": 5
}
